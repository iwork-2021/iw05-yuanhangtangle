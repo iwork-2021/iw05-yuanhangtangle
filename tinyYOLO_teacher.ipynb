{
 "cells": [
  {
   "cell_type": "markdown",
   "metadata": {},
   "source": [
    "# Train YOLO object detector with Turi Create"
   ]
  },
  {
   "cell_type": "code",
   "execution_count": 1,
   "metadata": {},
   "outputs": [],
   "source": [
    "import os, sys, math\n",
    "import pandas as pd\n",
    "import turicreate as tc"
   ]
  },
  {
   "cell_type": "markdown",
   "metadata": {},
   "source": [
    "Helper code for loading the CSV file and combining it with an SFrame. We only keep the images that we have annotations for."
   ]
  },
  {
   "cell_type": "code",
   "execution_count": 2,
   "metadata": {},
   "outputs": [],
   "source": [
    "def load_images_with_annotations(images_dir, annotations_file):\n",
    "    # Load the images into a Turi SFrame.\n",
    "    data = tc.image_analysis.load_images(images_dir, with_path=True)\n",
    "    \n",
    "    # Load the annotations CSV file into a Pandas dataframe.\n",
    "    csv = pd.read_csv(annotations_file)\n",
    "\n",
    "    # Loop through all the images and match these to the annotations from the\n",
    "    # CSV file, if annotations are available for the image.\n",
    "    all_annotations = []\n",
    "    for i, item in enumerate(data):\n",
    "        # Grab image info from the SFrame.\n",
    "        img_path = item[\"path\"]\n",
    "        img_width = item[\"image\"].width\n",
    "        img_height = item[\"image\"].height\n",
    "\n",
    "        # Find the corresponding row(s) in the CSV's dataframe.\n",
    "        image_id = os.path.basename(img_path)[:-4]\n",
    "        rows = csv[csv[\"image_id\"] == image_id]\n",
    "\n",
    "        # Turi expects a list for every image that contains a dictionary for\n",
    "        # every bounding box that we have an annotation for.\n",
    "        img_annotations = []\n",
    "        # The CSV file stores the coordinate as numbers between 0 and 1,\n",
    "        # but Turi wants pixel coordinates in the image.\n",
    "        \n",
    "        # A bounding box in Turi is given by a center coordinate and the\n",
    "        # width and height, we have them as the four corners of the box.\n",
    "\n",
    "            \n",
    "            # img_annotations.append({\"coordinates\": {\"height\": height, \n",
    "            #                                         \"width\": width, \n",
    "            #                                         \"x\": x, \n",
    "            #                                         \"y\": y}, \n",
    "            #                         \"label\": class_name})\n",
    "\n",
    "        # If there were no annotations for this image, then append a None\n",
    "        # so that we can filter out those images from the SFrame.\n",
    "        if len(img_annotations) > 0:\n",
    "            all_annotations.append(img_annotations)\n",
    "        else:\n",
    "            all_annotations.append(None)\n",
    "\n",
    "    data[\"annotations\"] = tc.SArray(data=all_annotations, dtype=list)\n",
    "    return data.dropna()"
   ]
  },
  {
   "cell_type": "code",
   "execution_count": 3,
   "metadata": {},
   "outputs": [],
   "source": [
    "data_dir = \"snacks\"\n",
    "train_dir = os.path.join(data_dir, \"train\")\n",
    "val_dir = os.path.join(data_dir, \"val\")\n",
    "test_dir = os.path.join(data_dir, \"test\")"
   ]
  },
  {
   "cell_type": "code",
   "execution_count": 4,
   "metadata": {},
   "outputs": [],
   "source": [
    "train_data = load_images_with_annotations(train_dir, data_dir + \"/annotations-train.csv\")"
   ]
  },
  {
   "cell_type": "code",
   "execution_count": 5,
   "metadata": {},
   "outputs": [
    {
     "data": {
      "text/plain": [
       "4265"
      ]
     },
     "execution_count": 5,
     "metadata": {},
     "output_type": "execute_result"
    }
   ],
   "source": [
    "len(train_data)"
   ]
  },
  {
   "cell_type": "code",
   "execution_count": 6,
   "metadata": {},
   "outputs": [
    {
     "data": {
      "text/html": [
       "<div style=\"max-height:1000px;max-width:1500px;overflow:auto;\"><table frame=\"box\" rules=\"cols\">\n",
       "    <tr>\n",
       "        <th style=\"padding-left: 1em; padding-right: 1em; text-align: center\">path</th>\n",
       "        <th style=\"padding-left: 1em; padding-right: 1em; text-align: center\">image</th>\n",
       "        <th style=\"padding-left: 1em; padding-right: 1em; text-align: center\">annotations</th>\n",
       "    </tr>\n",
       "    <tr>\n",
       "        <td style=\"padding-left: 1em; padding-right: 1em; text-align: center; vertical-align: top\">/Users/ParagonLight/OneDr<br>ive/iOS智能开发/资料/Machin ...</td>\n",
       "        <td style=\"padding-left: 1em; padding-right: 1em; text-align: center; vertical-align: top\">Height: 341 Width: 256</td>\n",
       "        <td style=\"padding-left: 1em; padding-right: 1em; text-align: center; vertical-align: top\">[{&#x27;coordinates&#x27;:<br>{&#x27;height&#x27;: 95, &#x27;width&#x27;: ...</td>\n",
       "    </tr>\n",
       "    <tr>\n",
       "        <td style=\"padding-left: 1em; padding-right: 1em; text-align: center; vertical-align: top\">/Users/ParagonLight/OneDr<br>ive/iOS智能开发/资料/Machin ...</td>\n",
       "        <td style=\"padding-left: 1em; padding-right: 1em; text-align: center; vertical-align: top\">Height: 256 Width: 341</td>\n",
       "        <td style=\"padding-left: 1em; padding-right: 1em; text-align: center; vertical-align: top\">[{&#x27;coordinates&#x27;:<br>{&#x27;height&#x27;: 122, &#x27;width&#x27;: ...</td>\n",
       "    </tr>\n",
       "    <tr>\n",
       "        <td style=\"padding-left: 1em; padding-right: 1em; text-align: center; vertical-align: top\">/Users/ParagonLight/OneDr<br>ive/iOS智能开发/资料/Machin ...</td>\n",
       "        <td style=\"padding-left: 1em; padding-right: 1em; text-align: center; vertical-align: top\">Height: 256 Width: 384</td>\n",
       "        <td style=\"padding-left: 1em; padding-right: 1em; text-align: center; vertical-align: top\">[{&#x27;coordinates&#x27;:<br>{&#x27;height&#x27;: 88, &#x27;width&#x27;: ...</td>\n",
       "    </tr>\n",
       "    <tr>\n",
       "        <td style=\"padding-left: 1em; padding-right: 1em; text-align: center; vertical-align: top\">/Users/ParagonLight/OneDr<br>ive/iOS智能开发/资料/Machin ...</td>\n",
       "        <td style=\"padding-left: 1em; padding-right: 1em; text-align: center; vertical-align: top\">Height: 256 Width: 341</td>\n",
       "        <td style=\"padding-left: 1em; padding-right: 1em; text-align: center; vertical-align: top\">[{&#x27;coordinates&#x27;:<br>{&#x27;height&#x27;: 150, &#x27;width&#x27;: ...</td>\n",
       "    </tr>\n",
       "    <tr>\n",
       "        <td style=\"padding-left: 1em; padding-right: 1em; text-align: center; vertical-align: top\">/Users/ParagonLight/OneDr<br>ive/iOS智能开发/资料/Machin ...</td>\n",
       "        <td style=\"padding-left: 1em; padding-right: 1em; text-align: center; vertical-align: top\">Height: 256 Width: 341</td>\n",
       "        <td style=\"padding-left: 1em; padding-right: 1em; text-align: center; vertical-align: top\">[{&#x27;coordinates&#x27;:<br>{&#x27;height&#x27;: 100, &#x27;width&#x27;: ...</td>\n",
       "    </tr>\n",
       "    <tr>\n",
       "        <td style=\"padding-left: 1em; padding-right: 1em; text-align: center; vertical-align: top\">/Users/ParagonLight/OneDr<br>ive/iOS智能开发/资料/Machin ...</td>\n",
       "        <td style=\"padding-left: 1em; padding-right: 1em; text-align: center; vertical-align: top\">Height: 256 Width: 382</td>\n",
       "        <td style=\"padding-left: 1em; padding-right: 1em; text-align: center; vertical-align: top\">[{&#x27;coordinates&#x27;:<br>{&#x27;height&#x27;: 37, &#x27;width&#x27;: ...</td>\n",
       "    </tr>\n",
       "    <tr>\n",
       "        <td style=\"padding-left: 1em; padding-right: 1em; text-align: center; vertical-align: top\">/Users/ParagonLight/OneDr<br>ive/iOS智能开发/资料/Machin ...</td>\n",
       "        <td style=\"padding-left: 1em; padding-right: 1em; text-align: center; vertical-align: top\">Height: 256 Width: 256</td>\n",
       "        <td style=\"padding-left: 1em; padding-right: 1em; text-align: center; vertical-align: top\">[{&#x27;coordinates&#x27;:<br>{&#x27;height&#x27;: 53, &#x27;width&#x27;: ...</td>\n",
       "    </tr>\n",
       "    <tr>\n",
       "        <td style=\"padding-left: 1em; padding-right: 1em; text-align: center; vertical-align: top\">/Users/ParagonLight/OneDr<br>ive/iOS智能开发/资料/Machin ...</td>\n",
       "        <td style=\"padding-left: 1em; padding-right: 1em; text-align: center; vertical-align: top\">Height: 256 Width: 256</td>\n",
       "        <td style=\"padding-left: 1em; padding-right: 1em; text-align: center; vertical-align: top\">[{&#x27;coordinates&#x27;:<br>{&#x27;height&#x27;: 177, &#x27;width&#x27;: ...</td>\n",
       "    </tr>\n",
       "    <tr>\n",
       "        <td style=\"padding-left: 1em; padding-right: 1em; text-align: center; vertical-align: top\">/Users/ParagonLight/OneDr<br>ive/iOS智能开发/资料/Machin ...</td>\n",
       "        <td style=\"padding-left: 1em; padding-right: 1em; text-align: center; vertical-align: top\">Height: 256 Width: 446</td>\n",
       "        <td style=\"padding-left: 1em; padding-right: 1em; text-align: center; vertical-align: top\">[{&#x27;coordinates&#x27;:<br>{&#x27;height&#x27;: 59, &#x27;width&#x27;: ...</td>\n",
       "    </tr>\n",
       "    <tr>\n",
       "        <td style=\"padding-left: 1em; padding-right: 1em; text-align: center; vertical-align: top\">/Users/ParagonLight/OneDr<br>ive/iOS智能开发/资料/Machin ...</td>\n",
       "        <td style=\"padding-left: 1em; padding-right: 1em; text-align: center; vertical-align: top\">Height: 256 Width: 341</td>\n",
       "        <td style=\"padding-left: 1em; padding-right: 1em; text-align: center; vertical-align: top\">[{&#x27;coordinates&#x27;:<br>{&#x27;height&#x27;: 61, &#x27;width&#x27;: ...</td>\n",
       "    </tr>\n",
       "</table>\n",
       "[10 rows x 3 columns]<br/>\n",
       "</div>"
      ],
      "text/plain": [
       "Columns:\n",
       "\tpath\tstr\n",
       "\timage\tImage\n",
       "\tannotations\tlist\n",
       "\n",
       "Rows: 10\n",
       "\n",
       "Data:\n",
       "+-------------------------------+------------------------+\n",
       "|              path             |         image          |\n",
       "+-------------------------------+------------------------+\n",
       "| /Users/ParagonLight/OneDri... | Height: 341 Width: 256 |\n",
       "| /Users/ParagonLight/OneDri... | Height: 256 Width: 341 |\n",
       "| /Users/ParagonLight/OneDri... | Height: 256 Width: 384 |\n",
       "| /Users/ParagonLight/OneDri... | Height: 256 Width: 341 |\n",
       "| /Users/ParagonLight/OneDri... | Height: 256 Width: 341 |\n",
       "| /Users/ParagonLight/OneDri... | Height: 256 Width: 382 |\n",
       "| /Users/ParagonLight/OneDri... | Height: 256 Width: 256 |\n",
       "| /Users/ParagonLight/OneDri... | Height: 256 Width: 256 |\n",
       "| /Users/ParagonLight/OneDri... | Height: 256 Width: 446 |\n",
       "| /Users/ParagonLight/OneDri... | Height: 256 Width: 341 |\n",
       "+-------------------------------+------------------------+\n",
       "+-------------------------------+\n",
       "|          annotations          |\n",
       "+-------------------------------+\n",
       "| [{'coordinates': {'height'... |\n",
       "| [{'coordinates': {'height'... |\n",
       "| [{'coordinates': {'height'... |\n",
       "| [{'coordinates': {'height'... |\n",
       "| [{'coordinates': {'height'... |\n",
       "| [{'coordinates': {'height'... |\n",
       "| [{'coordinates': {'height'... |\n",
       "| [{'coordinates': {'height'... |\n",
       "| [{'coordinates': {'height'... |\n",
       "| [{'coordinates': {'height'... |\n",
       "+-------------------------------+\n",
       "[10 rows x 3 columns]"
      ]
     },
     "execution_count": 6,
     "metadata": {},
     "output_type": "execute_result"
    }
   ],
   "source": [
    "train_data.head()"
   ]
  },
  {
   "cell_type": "code",
   "execution_count": 7,
   "metadata": {},
   "outputs": [
    {
     "data": {
      "text/plain": [
       "{'path': '/Users/ParagonLight/OneDrive/iOS智能开发/资料/Machine_Learning_by_Tutorials_v2.4.0/10-yolo/final/snacks/train/apple/007a0bec00a90a66.jpg',\n",
       " 'image': Height: 341px\n",
       " Width: 256px\n",
       " Channels: 3,\n",
       " 'annotations': [{'coordinates': {'height': 95,\n",
       "    'width': 112,\n",
       "    'x': 73,\n",
       "    'y': 113},\n",
       "   'label': 'apple'},\n",
       "  {'coordinates': {'height': 91, 'width': 116, 'x': 76, 'y': 118},\n",
       "   'label': 'apple'},\n",
       "  {'coordinates': {'height': 103, 'width': 114, 'x': 75, 'y': 111},\n",
       "   'label': 'apple'}]}"
      ]
     },
     "execution_count": 7,
     "metadata": {},
     "output_type": "execute_result"
    }
   ],
   "source": [
    "train_data[0]"
   ]
  },
  {
   "cell_type": "markdown",
   "metadata": {},
   "source": [
    "Visualize the bounding boxes on top of the training data:"
   ]
  },
  {
   "cell_type": "code",
   "execution_count": null,
   "metadata": {},
   "outputs": [],
   "source": [
    "train_data['image_with_ground_truth'] = tc.object_detector.util.draw_bounding_boxes(\n",
    "                                            train_data['image'], train_data['annotations'])\n",
    "train_data.explore()"
   ]
  },
  {
   "cell_type": "markdown",
   "metadata": {},
   "source": [
    "Train the model. This first downloads the Darknet feature extractor."
   ]
  },
  {
   "cell_type": "code",
   "execution_count": null,
   "metadata": {
    "scrolled": true
   },
   "outputs": [
    {
     "name": "stdout",
     "output_type": "stream",
     "text": [
      "Downloading https://docs-assets.developer.apple.com/turicreate/models/darknet.params\n",
      "Download completed: /var/folders/g2/d875dk7s4xq8j03j59rzx0w40000gn/T/model_cache/darknet.params\n",
      "Downloading https://docs-assets.developer.apple.com/turicreate/models/darknet.mlmodel\n",
      "Download completed: /var/folders/g2/d875dk7s4xq8j03j59rzx0w40000gn/T/model_cache/darknet.mlmodel\n"
     ]
    },
    {
     "data": {
      "text/html": [
       "<pre>Using GPU (\"Intel(R) Iris(TM) Plus Graphics\") to create model.</pre>"
      ],
      "text/plain": [
       "Using GPU (\"Intel(R) Iris(TM) Plus Graphics\") to create model."
      ]
     },
     "metadata": {},
     "output_type": "display_data"
    },
    {
     "data": {
      "text/html": [
       "<pre>Setting 'batch_size' to 16</pre>"
      ],
      "text/plain": [
       "Setting 'batch_size' to 16"
      ]
     },
     "metadata": {},
     "output_type": "display_data"
    },
    {
     "data": {
      "text/html": [
       "<pre>Setting 'max_iterations' to 26000</pre>"
      ],
      "text/plain": [
       "Setting 'max_iterations' to 26000"
      ]
     },
     "metadata": {},
     "output_type": "display_data"
    },
    {
     "data": {
      "text/html": [
       "<pre>+--------------+--------------+--------------+</pre>"
      ],
      "text/plain": [
       "+--------------+--------------+--------------+"
      ]
     },
     "metadata": {},
     "output_type": "display_data"
    },
    {
     "data": {
      "text/html": [
       "<pre>| Iteration    | Loss         | Elapsed Time |</pre>"
      ],
      "text/plain": [
       "| Iteration    | Loss         | Elapsed Time |"
      ]
     },
     "metadata": {},
     "output_type": "display_data"
    },
    {
     "data": {
      "text/html": [
       "<pre>+--------------+--------------+--------------+</pre>"
      ],
      "text/plain": [
       "+--------------+--------------+--------------+"
      ]
     },
     "metadata": {},
     "output_type": "display_data"
    },
    {
     "data": {
      "text/html": [
       "<pre>| 1            | 9.27454      | 1.97s        |</pre>"
      ],
      "text/plain": [
       "| 1            | 9.27454      | 1.97s        |"
      ]
     },
     "metadata": {},
     "output_type": "display_data"
    },
    {
     "data": {
      "text/html": [
       "<pre>| 2            | 9.4849       | 3.08s        |</pre>"
      ],
      "text/plain": [
       "| 2            | 9.4849       | 3.08s        |"
      ]
     },
     "metadata": {},
     "output_type": "display_data"
    },
    {
     "data": {
      "text/html": [
       "<pre>| 3            | 9.54591      | 4.19s        |</pre>"
      ],
      "text/plain": [
       "| 3            | 9.54591      | 4.19s        |"
      ]
     },
     "metadata": {},
     "output_type": "display_data"
    },
    {
     "data": {
      "text/html": [
       "<pre>| 4            | 9.64719      | 5.28s        |</pre>"
      ],
      "text/plain": [
       "| 4            | 9.64719      | 5.28s        |"
      ]
     },
     "metadata": {},
     "output_type": "display_data"
    },
    {
     "data": {
      "text/html": [
       "<pre>| 5            | 9.63439      | 6.37s        |</pre>"
      ],
      "text/plain": [
       "| 5            | 9.63439      | 6.37s        |"
      ]
     },
     "metadata": {},
     "output_type": "display_data"
    },
    {
     "data": {
      "text/html": [
       "<pre>| 10           | 9.35546      | 11.82s       |</pre>"
      ],
      "text/plain": [
       "| 10           | 9.35546      | 11.82s       |"
      ]
     },
     "metadata": {},
     "output_type": "display_data"
    },
    {
     "data": {
      "text/html": [
       "<pre>| 15           | 9.43377      | 17.26s       |</pre>"
      ],
      "text/plain": [
       "| 15           | 9.43377      | 17.26s       |"
      ]
     },
     "metadata": {},
     "output_type": "display_data"
    },
    {
     "data": {
      "text/html": [
       "<pre>| 20           | 9.85594      | 22.71s       |</pre>"
      ],
      "text/plain": [
       "| 20           | 9.85594      | 22.71s       |"
      ]
     },
     "metadata": {},
     "output_type": "display_data"
    },
    {
     "data": {
      "text/html": [
       "<pre>| 25           | 9.56786      | 28.14s       |</pre>"
      ],
      "text/plain": [
       "| 25           | 9.56786      | 28.14s       |"
      ]
     },
     "metadata": {},
     "output_type": "display_data"
    },
    {
     "data": {
      "text/html": [
       "<pre>| 30           | 9.79258      | 33.58s       |</pre>"
      ],
      "text/plain": [
       "| 30           | 9.79258      | 33.58s       |"
      ]
     },
     "metadata": {},
     "output_type": "display_data"
    },
    {
     "data": {
      "text/html": [
       "<pre>| 35           | 9.68728      | 39.03s       |</pre>"
      ],
      "text/plain": [
       "| 35           | 9.68728      | 39.03s       |"
      ]
     },
     "metadata": {},
     "output_type": "display_data"
    },
    {
     "data": {
      "text/html": [
       "<pre>| 40           | 9.37842      | 44.47s       |</pre>"
      ],
      "text/plain": [
       "| 40           | 9.37842      | 44.47s       |"
      ]
     },
     "metadata": {},
     "output_type": "display_data"
    },
    {
     "data": {
      "text/html": [
       "<pre>| 45           | 9.42288      | 49.91s       |</pre>"
      ],
      "text/plain": [
       "| 45           | 9.42288      | 49.91s       |"
      ]
     },
     "metadata": {},
     "output_type": "display_data"
    },
    {
     "data": {
      "text/html": [
       "<pre>| 50           | 9.47002      | 55.38s       |</pre>"
      ],
      "text/plain": [
       "| 50           | 9.47002      | 55.38s       |"
      ]
     },
     "metadata": {},
     "output_type": "display_data"
    },
    {
     "data": {
      "text/html": [
       "<pre>| 55           | 9.31754      | 1m 0s        |</pre>"
      ],
      "text/plain": [
       "| 55           | 9.31754      | 1m 0s        |"
      ]
     },
     "metadata": {},
     "output_type": "display_data"
    },
    {
     "data": {
      "text/html": [
       "<pre>| 60           | 9.81738      | 1m 6s        |</pre>"
      ],
      "text/plain": [
       "| 60           | 9.81738      | 1m 6s        |"
      ]
     },
     "metadata": {},
     "output_type": "display_data"
    },
    {
     "data": {
      "text/html": [
       "<pre>| 65           | 9.94431      | 1m 11s       |</pre>"
      ],
      "text/plain": [
       "| 65           | 9.94431      | 1m 11s       |"
      ]
     },
     "metadata": {},
     "output_type": "display_data"
    },
    {
     "data": {
      "text/html": [
       "<pre>| 70           | 9.96194      | 1m 17s       |</pre>"
      ],
      "text/plain": [
       "| 70           | 9.96194      | 1m 17s       |"
      ]
     },
     "metadata": {},
     "output_type": "display_data"
    },
    {
     "data": {
      "text/html": [
       "<pre>| 75           | 9.92315      | 1m 22s       |</pre>"
      ],
      "text/plain": [
       "| 75           | 9.92315      | 1m 22s       |"
      ]
     },
     "metadata": {},
     "output_type": "display_data"
    },
    {
     "data": {
      "text/html": [
       "<pre>| 80           | 9.58499      | 1m 28s       |</pre>"
      ],
      "text/plain": [
       "| 80           | 9.58499      | 1m 28s       |"
      ]
     },
     "metadata": {},
     "output_type": "display_data"
    },
    {
     "data": {
      "text/html": [
       "<pre>| 85           | 9.91695      | 1m 33s       |</pre>"
      ],
      "text/plain": [
       "| 85           | 9.91695      | 1m 33s       |"
      ]
     },
     "metadata": {},
     "output_type": "display_data"
    },
    {
     "data": {
      "text/html": [
       "<pre>| 90           | 9.93008      | 1m 39s       |</pre>"
      ],
      "text/plain": [
       "| 90           | 9.93008      | 1m 39s       |"
      ]
     },
     "metadata": {},
     "output_type": "display_data"
    },
    {
     "data": {
      "text/html": [
       "<pre>| 95           | 9.73841      | 1m 44s       |</pre>"
      ],
      "text/plain": [
       "| 95           | 9.73841      | 1m 44s       |"
      ]
     },
     "metadata": {},
     "output_type": "display_data"
    },
    {
     "data": {
      "text/html": [
       "<pre>| 100          | 9.89654      | 1m 50s       |</pre>"
      ],
      "text/plain": [
       "| 100          | 9.89654      | 1m 50s       |"
      ]
     },
     "metadata": {},
     "output_type": "display_data"
    },
    {
     "data": {
      "text/html": [
       "<pre>| 105          | 10.0483      | 1m 55s       |</pre>"
      ],
      "text/plain": [
       "| 105          | 10.0483      | 1m 55s       |"
      ]
     },
     "metadata": {},
     "output_type": "display_data"
    },
    {
     "data": {
      "text/html": [
       "<pre>| 110          | 9.96818      | 2m 1s        |</pre>"
      ],
      "text/plain": [
       "| 110          | 9.96818      | 2m 1s        |"
      ]
     },
     "metadata": {},
     "output_type": "display_data"
    },
    {
     "data": {
      "text/html": [
       "<pre>| 115          | 9.92189      | 2m 7s        |</pre>"
      ],
      "text/plain": [
       "| 115          | 9.92189      | 2m 7s        |"
      ]
     },
     "metadata": {},
     "output_type": "display_data"
    },
    {
     "data": {
      "text/html": [
       "<pre>| 120          | 9.56748      | 2m 13s       |</pre>"
      ],
      "text/plain": [
       "| 120          | 9.56748      | 2m 13s       |"
      ]
     },
     "metadata": {},
     "output_type": "display_data"
    },
    {
     "data": {
      "text/html": [
       "<pre>| 125          | 9.62974      | 2m 20s       |</pre>"
      ],
      "text/plain": [
       "| 125          | 9.62974      | 2m 20s       |"
      ]
     },
     "metadata": {},
     "output_type": "display_data"
    },
    {
     "data": {
      "text/html": [
       "<pre>| 130          | 9.76818      | 2m 27s       |</pre>"
      ],
      "text/plain": [
       "| 130          | 9.76818      | 2m 27s       |"
      ]
     },
     "metadata": {},
     "output_type": "display_data"
    },
    {
     "data": {
      "text/html": [
       "<pre>| 135          | 9.5706       | 2m 35s       |</pre>"
      ],
      "text/plain": [
       "| 135          | 9.5706       | 2m 35s       |"
      ]
     },
     "metadata": {},
     "output_type": "display_data"
    },
    {
     "data": {
      "text/html": [
       "<pre>| 140          | 9.87009      | 2m 43s       |</pre>"
      ],
      "text/plain": [
       "| 140          | 9.87009      | 2m 43s       |"
      ]
     },
     "metadata": {},
     "output_type": "display_data"
    },
    {
     "data": {
      "text/html": [
       "<pre>| 145          | 9.90311      | 2m 52s       |</pre>"
      ],
      "text/plain": [
       "| 145          | 9.90311      | 2m 52s       |"
      ]
     },
     "metadata": {},
     "output_type": "display_data"
    },
    {
     "data": {
      "text/html": [
       "<pre>| 150          | 9.53953      | 3m 1s        |</pre>"
      ],
      "text/plain": [
       "| 150          | 9.53953      | 3m 1s        |"
      ]
     },
     "metadata": {},
     "output_type": "display_data"
    },
    {
     "data": {
      "text/html": [
       "<pre>| 155          | 9.92903      | 3m 10s       |</pre>"
      ],
      "text/plain": [
       "| 155          | 9.92903      | 3m 10s       |"
      ]
     },
     "metadata": {},
     "output_type": "display_data"
    },
    {
     "data": {
      "text/html": [
       "<pre>| 160          | 9.89643      | 3m 20s       |</pre>"
      ],
      "text/plain": [
       "| 160          | 9.89643      | 3m 20s       |"
      ]
     },
     "metadata": {},
     "output_type": "display_data"
    },
    {
     "data": {
      "text/html": [
       "<pre>| 165          | 9.84259      | 3m 30s       |</pre>"
      ],
      "text/plain": [
       "| 165          | 9.84259      | 3m 30s       |"
      ]
     },
     "metadata": {},
     "output_type": "display_data"
    },
    {
     "data": {
      "text/html": [
       "<pre>| 170          | 10.0119      | 3m 41s       |</pre>"
      ],
      "text/plain": [
       "| 170          | 10.0119      | 3m 41s       |"
      ]
     },
     "metadata": {},
     "output_type": "display_data"
    },
    {
     "data": {
      "text/html": [
       "<pre>| 175          | 9.63063      | 3m 52s       |</pre>"
      ],
      "text/plain": [
       "| 175          | 9.63063      | 3m 52s       |"
      ]
     },
     "metadata": {},
     "output_type": "display_data"
    },
    {
     "data": {
      "text/html": [
       "<pre>| 180          | 9.41206      | 4m 3s        |</pre>"
      ],
      "text/plain": [
       "| 180          | 9.41206      | 4m 3s        |"
      ]
     },
     "metadata": {},
     "output_type": "display_data"
    },
    {
     "data": {
      "text/html": [
       "<pre>| 185          | 9.5761       | 4m 15s       |</pre>"
      ],
      "text/plain": [
       "| 185          | 9.5761       | 4m 15s       |"
      ]
     },
     "metadata": {},
     "output_type": "display_data"
    },
    {
     "data": {
      "text/html": [
       "<pre>| 190          | 9.58912      | 4m 27s       |</pre>"
      ],
      "text/plain": [
       "| 190          | 9.58912      | 4m 27s       |"
      ]
     },
     "metadata": {},
     "output_type": "display_data"
    },
    {
     "data": {
      "text/html": [
       "<pre>| 195          | 9.72089      | 4m 40s       |</pre>"
      ],
      "text/plain": [
       "| 195          | 9.72089      | 4m 40s       |"
      ]
     },
     "metadata": {},
     "output_type": "display_data"
    },
    {
     "data": {
      "text/html": [
       "<pre>| 200          | 9.74471      | 4m 54s       |</pre>"
      ],
      "text/plain": [
       "| 200          | 9.74471      | 4m 54s       |"
      ]
     },
     "metadata": {},
     "output_type": "display_data"
    },
    {
     "data": {
      "text/html": [
       "<pre>| 205          | 9.65552      | 5m 8s        |</pre>"
      ],
      "text/plain": [
       "| 205          | 9.65552      | 5m 8s        |"
      ]
     },
     "metadata": {},
     "output_type": "display_data"
    },
    {
     "data": {
      "text/html": [
       "<pre>| 210          | 9.79106      | 5m 22s       |</pre>"
      ],
      "text/plain": [
       "| 210          | 9.79106      | 5m 22s       |"
      ]
     },
     "metadata": {},
     "output_type": "display_data"
    },
    {
     "data": {
      "text/html": [
       "<pre>| 215          | 9.78775      | 5m 37s       |</pre>"
      ],
      "text/plain": [
       "| 215          | 9.78775      | 5m 37s       |"
      ]
     },
     "metadata": {},
     "output_type": "display_data"
    },
    {
     "data": {
      "text/html": [
       "<pre>| 220          | 9.51126      | 5m 52s       |</pre>"
      ],
      "text/plain": [
       "| 220          | 9.51126      | 5m 52s       |"
      ]
     },
     "metadata": {},
     "output_type": "display_data"
    },
    {
     "data": {
      "text/html": [
       "<pre>| 225          | 9.21563      | 6m 7s        |</pre>"
      ],
      "text/plain": [
       "| 225          | 9.21563      | 6m 7s        |"
      ]
     },
     "metadata": {},
     "output_type": "display_data"
    },
    {
     "data": {
      "text/html": [
       "<pre>| 230          | 9.50506      | 6m 22s       |</pre>"
      ],
      "text/plain": [
       "| 230          | 9.50506      | 6m 22s       |"
      ]
     },
     "metadata": {},
     "output_type": "display_data"
    },
    {
     "data": {
      "text/html": [
       "<pre>| 235          | 9.64876      | 6m 38s       |</pre>"
      ],
      "text/plain": [
       "| 235          | 9.64876      | 6m 38s       |"
      ]
     },
     "metadata": {},
     "output_type": "display_data"
    },
    {
     "data": {
      "text/html": [
       "<pre>| 240          | 9.48709      | 6m 54s       |</pre>"
      ],
      "text/plain": [
       "| 240          | 9.48709      | 6m 54s       |"
      ]
     },
     "metadata": {},
     "output_type": "display_data"
    },
    {
     "data": {
      "text/html": [
       "<pre>| 245          | 10.0079      | 7m 10s       |</pre>"
      ],
      "text/plain": [
       "| 245          | 10.0079      | 7m 10s       |"
      ]
     },
     "metadata": {},
     "output_type": "display_data"
    },
    {
     "data": {
      "text/html": [
       "<pre>| 250          | 9.82076      | 7m 26s       |</pre>"
      ],
      "text/plain": [
       "| 250          | 9.82076      | 7m 26s       |"
      ]
     },
     "metadata": {},
     "output_type": "display_data"
    },
    {
     "data": {
      "text/html": [
       "<pre>| 255          | 9.71387      | 7m 43s       |</pre>"
      ],
      "text/plain": [
       "| 255          | 9.71387      | 7m 43s       |"
      ]
     },
     "metadata": {},
     "output_type": "display_data"
    },
    {
     "data": {
      "text/html": [
       "<pre>| 260          | 9.91755      | 8m 0s        |</pre>"
      ],
      "text/plain": [
       "| 260          | 9.91755      | 8m 0s        |"
      ]
     },
     "metadata": {},
     "output_type": "display_data"
    },
    {
     "data": {
      "text/html": [
       "<pre>| 265          | 9.60231      | 8m 18s       |</pre>"
      ],
      "text/plain": [
       "| 265          | 9.60231      | 8m 18s       |"
      ]
     },
     "metadata": {},
     "output_type": "display_data"
    },
    {
     "data": {
      "text/html": [
       "<pre>| 270          | 9.67496      | 8m 36s       |</pre>"
      ],
      "text/plain": [
       "| 270          | 9.67496      | 8m 36s       |"
      ]
     },
     "metadata": {},
     "output_type": "display_data"
    },
    {
     "data": {
      "text/html": [
       "<pre>| 275          | 9.78779      | 8m 55s       |</pre>"
      ],
      "text/plain": [
       "| 275          | 9.78779      | 8m 55s       |"
      ]
     },
     "metadata": {},
     "output_type": "display_data"
    },
    {
     "data": {
      "text/html": [
       "<pre>| 280          | 9.57458      | 9m 13s       |</pre>"
      ],
      "text/plain": [
       "| 280          | 9.57458      | 9m 13s       |"
      ]
     },
     "metadata": {},
     "output_type": "display_data"
    },
    {
     "data": {
      "text/html": [
       "<pre>| 285          | 9.57888      | 9m 33s       |</pre>"
      ],
      "text/plain": [
       "| 285          | 9.57888      | 9m 33s       |"
      ]
     },
     "metadata": {},
     "output_type": "display_data"
    },
    {
     "data": {
      "text/html": [
       "<pre>| 290          | 9.52905      | 9m 53s       |</pre>"
      ],
      "text/plain": [
       "| 290          | 9.52905      | 9m 53s       |"
      ]
     },
     "metadata": {},
     "output_type": "display_data"
    },
    {
     "data": {
      "text/html": [
       "<pre>| 295          | 9.4487       | 10m 14s      |</pre>"
      ],
      "text/plain": [
       "| 295          | 9.4487       | 10m 14s      |"
      ]
     },
     "metadata": {},
     "output_type": "display_data"
    },
    {
     "data": {
      "text/html": [
       "<pre>| 300          | 9.32384      | 10m 34s      |</pre>"
      ],
      "text/plain": [
       "| 300          | 9.32384      | 10m 34s      |"
      ]
     },
     "metadata": {},
     "output_type": "display_data"
    },
    {
     "data": {
      "text/html": [
       "<pre>| 305          | 9.42385      | 10m 56s      |</pre>"
      ],
      "text/plain": [
       "| 305          | 9.42385      | 10m 56s      |"
      ]
     },
     "metadata": {},
     "output_type": "display_data"
    },
    {
     "data": {
      "text/html": [
       "<pre>| 310          | 9.55011      | 11m 17s      |</pre>"
      ],
      "text/plain": [
       "| 310          | 9.55011      | 11m 17s      |"
      ]
     },
     "metadata": {},
     "output_type": "display_data"
    },
    {
     "data": {
      "text/html": [
       "<pre>| 315          | 9.56026      | 11m 38s      |</pre>"
      ],
      "text/plain": [
       "| 315          | 9.56026      | 11m 38s      |"
      ]
     },
     "metadata": {},
     "output_type": "display_data"
    },
    {
     "data": {
      "text/html": [
       "<pre>| 320          | 9.40679      | 12m 1s       |</pre>"
      ],
      "text/plain": [
       "| 320          | 9.40679      | 12m 1s       |"
      ]
     },
     "metadata": {},
     "output_type": "display_data"
    },
    {
     "data": {
      "text/html": [
       "<pre>| 325          | 9.41692      | 12m 23s      |</pre>"
      ],
      "text/plain": [
       "| 325          | 9.41692      | 12m 23s      |"
      ]
     },
     "metadata": {},
     "output_type": "display_data"
    },
    {
     "data": {
      "text/html": [
       "<pre>| 330          | 9.30606      | 12m 45s      |</pre>"
      ],
      "text/plain": [
       "| 330          | 9.30606      | 12m 45s      |"
      ]
     },
     "metadata": {},
     "output_type": "display_data"
    },
    {
     "data": {
      "text/html": [
       "<pre>| 335          | 9.31024      | 13m 8s       |</pre>"
      ],
      "text/plain": [
       "| 335          | 9.31024      | 13m 8s       |"
      ]
     },
     "metadata": {},
     "output_type": "display_data"
    },
    {
     "data": {
      "text/html": [
       "<pre>| 340          | 9.24495      | 13m 31s      |</pre>"
      ],
      "text/plain": [
       "| 340          | 9.24495      | 13m 31s      |"
      ]
     },
     "metadata": {},
     "output_type": "display_data"
    },
    {
     "data": {
      "text/html": [
       "<pre>| 345          | 9.36761      | 13m 54s      |</pre>"
      ],
      "text/plain": [
       "| 345          | 9.36761      | 13m 54s      |"
      ]
     },
     "metadata": {},
     "output_type": "display_data"
    },
    {
     "data": {
      "text/html": [
       "<pre>| 350          | 9.30876      | 14m 18s      |</pre>"
      ],
      "text/plain": [
       "| 350          | 9.30876      | 14m 18s      |"
      ]
     },
     "metadata": {},
     "output_type": "display_data"
    },
    {
     "data": {
      "text/html": [
       "<pre>| 355          | 9.61283      | 14m 43s      |</pre>"
      ],
      "text/plain": [
       "| 355          | 9.61283      | 14m 43s      |"
      ]
     },
     "metadata": {},
     "output_type": "display_data"
    },
    {
     "data": {
      "text/html": [
       "<pre>| 360          | 9.47135      | 15m 8s       |</pre>"
      ],
      "text/plain": [
       "| 360          | 9.47135      | 15m 8s       |"
      ]
     },
     "metadata": {},
     "output_type": "display_data"
    },
    {
     "data": {
      "text/html": [
       "<pre>| 365          | 9.23261      | 15m 29s      |</pre>"
      ],
      "text/plain": [
       "| 365          | 9.23261      | 15m 29s      |"
      ]
     },
     "metadata": {},
     "output_type": "display_data"
    },
    {
     "data": {
      "text/html": [
       "<pre>| 370          | 9.24557      | 15m 45s      |</pre>"
      ],
      "text/plain": [
       "| 370          | 9.24557      | 15m 45s      |"
      ]
     },
     "metadata": {},
     "output_type": "display_data"
    },
    {
     "data": {
      "text/html": [
       "<pre>| 375          | 9.44906      | 16m 1s       |</pre>"
      ],
      "text/plain": [
       "| 375          | 9.44906      | 16m 1s       |"
      ]
     },
     "metadata": {},
     "output_type": "display_data"
    },
    {
     "data": {
      "text/html": [
       "<pre>| 380          | 9.46144      | 16m 17s      |</pre>"
      ],
      "text/plain": [
       "| 380          | 9.46144      | 16m 17s      |"
      ]
     },
     "metadata": {},
     "output_type": "display_data"
    },
    {
     "data": {
      "text/html": [
       "<pre>| 385          | 9.42783      | 16m 28s      |</pre>"
      ],
      "text/plain": [
       "| 385          | 9.42783      | 16m 28s      |"
      ]
     },
     "metadata": {},
     "output_type": "display_data"
    },
    {
     "data": {
      "text/html": [
       "<pre>| 390          | 9.56592      | 16m 50s      |</pre>"
      ],
      "text/plain": [
       "| 390          | 9.56592      | 16m 50s      |"
      ]
     },
     "metadata": {},
     "output_type": "display_data"
    },
    {
     "data": {
      "text/html": [
       "<pre>| 395          | 9.49724      | 17m 7s       |</pre>"
      ],
      "text/plain": [
       "| 395          | 9.49724      | 17m 7s       |"
      ]
     },
     "metadata": {},
     "output_type": "display_data"
    },
    {
     "data": {
      "text/html": [
       "<pre>| 400          | 9.31329      | 17m 25s      |</pre>"
      ],
      "text/plain": [
       "| 400          | 9.31329      | 17m 25s      |"
      ]
     },
     "metadata": {},
     "output_type": "display_data"
    },
    {
     "data": {
      "text/html": [
       "<pre>| 405          | 9.2239       | 17m 42s      |</pre>"
      ],
      "text/plain": [
       "| 405          | 9.2239       | 17m 42s      |"
      ]
     },
     "metadata": {},
     "output_type": "display_data"
    },
    {
     "data": {
      "text/html": [
       "<pre>| 410          | 9.35639      | 17m 54s      |</pre>"
      ],
      "text/plain": [
       "| 410          | 9.35639      | 17m 54s      |"
      ]
     },
     "metadata": {},
     "output_type": "display_data"
    },
    {
     "data": {
      "text/html": [
       "<pre>| 415          | 9.31874      | 18m 12s      |</pre>"
      ],
      "text/plain": [
       "| 415          | 9.31874      | 18m 12s      |"
      ]
     },
     "metadata": {},
     "output_type": "display_data"
    },
    {
     "data": {
      "text/html": [
       "<pre>| 420          | 9.3408       | 18m 25s      |</pre>"
      ],
      "text/plain": [
       "| 420          | 9.3408       | 18m 25s      |"
      ]
     },
     "metadata": {},
     "output_type": "display_data"
    },
    {
     "data": {
      "text/html": [
       "<pre>| 425          | 9.37819      | 18m 43s      |</pre>"
      ],
      "text/plain": [
       "| 425          | 9.37819      | 18m 43s      |"
      ]
     },
     "metadata": {},
     "output_type": "display_data"
    },
    {
     "data": {
      "text/html": [
       "<pre>| 430          | 9.23001      | 18m 56s      |</pre>"
      ],
      "text/plain": [
       "| 430          | 9.23001      | 18m 56s      |"
      ]
     },
     "metadata": {},
     "output_type": "display_data"
    },
    {
     "data": {
      "text/html": [
       "<pre>| 435          | 9.20702      | 19m 15s      |</pre>"
      ],
      "text/plain": [
       "| 435          | 9.20702      | 19m 15s      |"
      ]
     },
     "metadata": {},
     "output_type": "display_data"
    },
    {
     "data": {
      "text/html": [
       "<pre>| 440          | 9.31425      | 19m 28s      |</pre>"
      ],
      "text/plain": [
       "| 440          | 9.31425      | 19m 28s      |"
      ]
     },
     "metadata": {},
     "output_type": "display_data"
    },
    {
     "data": {
      "text/html": [
       "<pre>| 445          | 9.07338      | 19m 47s      |</pre>"
      ],
      "text/plain": [
       "| 445          | 9.07338      | 19m 47s      |"
      ]
     },
     "metadata": {},
     "output_type": "display_data"
    },
    {
     "data": {
      "text/html": [
       "<pre>| 450          | 9.23961      | 20m 2s       |</pre>"
      ],
      "text/plain": [
       "| 450          | 9.23961      | 20m 2s       |"
      ]
     },
     "metadata": {},
     "output_type": "display_data"
    },
    {
     "data": {
      "text/html": [
       "<pre>| 455          | 9.15187      | 20m 22s      |</pre>"
      ],
      "text/plain": [
       "| 455          | 9.15187      | 20m 22s      |"
      ]
     },
     "metadata": {},
     "output_type": "display_data"
    },
    {
     "data": {
      "text/html": [
       "<pre>| 460          | 9.41081      | 20m 37s      |</pre>"
      ],
      "text/plain": [
       "| 460          | 9.41081      | 20m 37s      |"
      ]
     },
     "metadata": {},
     "output_type": "display_data"
    },
    {
     "data": {
      "text/html": [
       "<pre>| 465          | 9.23164      | 20m 58s      |</pre>"
      ],
      "text/plain": [
       "| 465          | 9.23164      | 20m 58s      |"
      ]
     },
     "metadata": {},
     "output_type": "display_data"
    },
    {
     "data": {
      "text/html": [
       "<pre>| 470          | 9.44901      | 21m 13s      |</pre>"
      ],
      "text/plain": [
       "| 470          | 9.44901      | 21m 13s      |"
      ]
     },
     "metadata": {},
     "output_type": "display_data"
    },
    {
     "data": {
      "text/html": [
       "<pre>| 475          | 9.40285      | 21m 35s      |</pre>"
      ],
      "text/plain": [
       "| 475          | 9.40285      | 21m 35s      |"
      ]
     },
     "metadata": {},
     "output_type": "display_data"
    },
    {
     "data": {
      "text/html": [
       "<pre>| 480          | 9.4802       | 21m 50s      |</pre>"
      ],
      "text/plain": [
       "| 480          | 9.4802       | 21m 50s      |"
      ]
     },
     "metadata": {},
     "output_type": "display_data"
    },
    {
     "data": {
      "text/html": [
       "<pre>| 485          | 9.18115      | 22m 11s      |</pre>"
      ],
      "text/plain": [
       "| 485          | 9.18115      | 22m 11s      |"
      ]
     },
     "metadata": {},
     "output_type": "display_data"
    },
    {
     "data": {
      "text/html": [
       "<pre>| 490          | 9.16825      | 22m 32s      |</pre>"
      ],
      "text/plain": [
       "| 490          | 9.16825      | 22m 32s      |"
      ]
     },
     "metadata": {},
     "output_type": "display_data"
    },
    {
     "data": {
      "text/html": [
       "<pre>| 495          | 9.18038      | 22m 47s      |</pre>"
      ],
      "text/plain": [
       "| 495          | 9.18038      | 22m 47s      |"
      ]
     },
     "metadata": {},
     "output_type": "display_data"
    },
    {
     "data": {
      "text/html": [
       "<pre>| 500          | 9.16031      | 23m 9s       |</pre>"
      ],
      "text/plain": [
       "| 500          | 9.16031      | 23m 9s       |"
      ]
     },
     "metadata": {},
     "output_type": "display_data"
    },
    {
     "data": {
      "text/html": [
       "<pre>| 505          | 9.29257      | 23m 24s      |</pre>"
      ],
      "text/plain": [
       "| 505          | 9.29257      | 23m 24s      |"
      ]
     },
     "metadata": {},
     "output_type": "display_data"
    },
    {
     "data": {
      "text/html": [
       "<pre>| 510          | 9.38898      | 23m 46s      |</pre>"
      ],
      "text/plain": [
       "| 510          | 9.38898      | 23m 46s      |"
      ]
     },
     "metadata": {},
     "output_type": "display_data"
    },
    {
     "data": {
      "text/html": [
       "<pre>| 515          | 9.10741      | 24m 1s       |</pre>"
      ],
      "text/plain": [
       "| 515          | 9.10741      | 24m 1s       |"
      ]
     },
     "metadata": {},
     "output_type": "display_data"
    },
    {
     "data": {
      "text/html": [
       "<pre>| 520          | 9.01202      | 24m 24s      |</pre>"
      ],
      "text/plain": [
       "| 520          | 9.01202      | 24m 24s      |"
      ]
     },
     "metadata": {},
     "output_type": "display_data"
    },
    {
     "data": {
      "text/html": [
       "<pre>| 525          | 9.14881      | 24m 40s      |</pre>"
      ],
      "text/plain": [
       "| 525          | 9.14881      | 24m 40s      |"
      ]
     },
     "metadata": {},
     "output_type": "display_data"
    },
    {
     "data": {
      "text/html": [
       "<pre>| 530          | 9.2519       | 25m 4s       |</pre>"
      ],
      "text/plain": [
       "| 530          | 9.2519       | 25m 4s       |"
      ]
     },
     "metadata": {},
     "output_type": "display_data"
    },
    {
     "data": {
      "text/html": [
       "<pre>| 535          | 9.26131      | 25m 29s      |</pre>"
      ],
      "text/plain": [
       "| 535          | 9.26131      | 25m 29s      |"
      ]
     },
     "metadata": {},
     "output_type": "display_data"
    },
    {
     "data": {
      "text/html": [
       "<pre>| 540          | 9.22425      | 25m 45s      |</pre>"
      ],
      "text/plain": [
       "| 540          | 9.22425      | 25m 45s      |"
      ]
     },
     "metadata": {},
     "output_type": "display_data"
    },
    {
     "data": {
      "text/html": [
       "<pre>| 545          | 9.49746      | 26m 10s      |</pre>"
      ],
      "text/plain": [
       "| 545          | 9.49746      | 26m 10s      |"
      ]
     },
     "metadata": {},
     "output_type": "display_data"
    },
    {
     "data": {
      "text/html": [
       "<pre>| 550          | 9.47975      | 26m 26s      |</pre>"
      ],
      "text/plain": [
       "| 550          | 9.47975      | 26m 26s      |"
      ]
     },
     "metadata": {},
     "output_type": "display_data"
    },
    {
     "data": {
      "text/html": [
       "<pre>| 555          | 9.35159      | 26m 50s      |</pre>"
      ],
      "text/plain": [
       "| 555          | 9.35159      | 26m 50s      |"
      ]
     },
     "metadata": {},
     "output_type": "display_data"
    },
    {
     "data": {
      "text/html": [
       "<pre>| 560          | 9.42863      | 27m 7s       |</pre>"
      ],
      "text/plain": [
       "| 560          | 9.42863      | 27m 7s       |"
      ]
     },
     "metadata": {},
     "output_type": "display_data"
    },
    {
     "data": {
      "text/html": [
       "<pre>| 565          | 9.30433      | 27m 31s      |</pre>"
      ],
      "text/plain": [
       "| 565          | 9.30433      | 27m 31s      |"
      ]
     },
     "metadata": {},
     "output_type": "display_data"
    },
    {
     "data": {
      "text/html": [
       "<pre>| 570          | 9.30376      | 27m 56s      |</pre>"
      ],
      "text/plain": [
       "| 570          | 9.30376      | 27m 56s      |"
      ]
     },
     "metadata": {},
     "output_type": "display_data"
    },
    {
     "data": {
      "text/html": [
       "<pre>| 575          | 9.15788      | 28m 13s      |</pre>"
      ],
      "text/plain": [
       "| 575          | 9.15788      | 28m 13s      |"
      ]
     },
     "metadata": {},
     "output_type": "display_data"
    },
    {
     "data": {
      "text/html": [
       "<pre>| 580          | 9.27625      | 28m 38s      |</pre>"
      ],
      "text/plain": [
       "| 580          | 9.27625      | 28m 38s      |"
      ]
     },
     "metadata": {},
     "output_type": "display_data"
    },
    {
     "data": {
      "text/html": [
       "<pre>| 585          | 9.18657      | 28m 56s      |</pre>"
      ],
      "text/plain": [
       "| 585          | 9.18657      | 28m 56s      |"
      ]
     },
     "metadata": {},
     "output_type": "display_data"
    }
   ],
   "source": [
    "model = tc.object_detector.create(train_data, feature='image', annotations='annotations')"
   ]
  },
  {
   "cell_type": "markdown",
   "metadata": {},
   "source": [
    "Save the model. Also export to Core ML."
   ]
  },
  {
   "cell_type": "code",
   "execution_count": null,
   "metadata": {},
   "outputs": [],
   "source": [
    "model.save(\"SnackDetector.model\")"
   ]
  },
  {
   "cell_type": "code",
   "execution_count": null,
   "metadata": {},
   "outputs": [],
   "source": [
    "model.export_coreml(\"SnackDetector.mlmodel\")"
   ]
  },
  {
   "cell_type": "markdown",
   "metadata": {},
   "source": [
    "Load the model and evaluate it on the test set."
   ]
  },
  {
   "cell_type": "code",
   "execution_count": null,
   "metadata": {},
   "outputs": [],
   "source": [
    "model = tc.load_model(\"SnackDetector.model\")"
   ]
  },
  {
   "cell_type": "code",
   "execution_count": null,
   "metadata": {},
   "outputs": [],
   "source": [
    "val_data = load_images_with_annotations(val_dir, data_dir + \"/annotations-val.csv\")\n",
    "test_data = load_images_with_annotations(test_dir, data_dir + \"/annotations-test.csv\")"
   ]
  },
  {
   "cell_type": "code",
   "execution_count": null,
   "metadata": {},
   "outputs": [],
   "source": [
    "scores = model.evaluate(test_data)"
   ]
  },
  {
   "cell_type": "markdown",
   "metadata": {},
   "source": [
    "`model.evaluate()` computes the \"average precision\" for each class, as well as the overall mean average precision metric. Higher is better."
   ]
  },
  {
   "cell_type": "code",
   "execution_count": null,
   "metadata": {},
   "outputs": [],
   "source": [
    "scores"
   ]
  },
  {
   "cell_type": "markdown",
   "metadata": {},
   "source": [
    "Make predictions on the test data. This outputs something like this:\n",
    "\n",
    "```\n",
    "[{'confidence': 0.7225357099539148,\n",
    "  'coordinates': {'height': 73.92794444010806,\n",
    "                  'width': 90.45315889211807,\n",
    "                  'x': 262.2198759929745,\n",
    "                  'y': 155.496952970812},\n",
    "  'label': 'dog',\n",
    "  'type': 'rectangle'},\n",
    " ...]\n",
    "```\n",
    "\n",
    "which is similar to the annotations, but now there is a `confidence` field as well."
   ]
  },
  {
   "cell_type": "code",
   "execution_count": null,
   "metadata": {},
   "outputs": [],
   "source": [
    "test_data[\"predictions\"] = model.predict(test_data)"
   ]
  },
  {
   "cell_type": "code",
   "execution_count": null,
   "metadata": {},
   "outputs": [],
   "source": [
    "test_data.head()"
   ]
  },
  {
   "cell_type": "markdown",
   "metadata": {},
   "source": [
    "Visualize the predicted bounding boxes on top of the test set:"
   ]
  },
  {
   "cell_type": "code",
   "execution_count": null,
   "metadata": {},
   "outputs": [],
   "source": [
    "test_data['image_with_predictions'] = tc.object_detector.util.draw_bounding_boxes(\n",
    "                                           test_data['image'], test_data['predictions'])"
   ]
  },
  {
   "cell_type": "code",
   "execution_count": null,
   "metadata": {},
   "outputs": [],
   "source": [
    "test_data.head()"
   ]
  },
  {
   "cell_type": "code",
   "execution_count": null,
   "metadata": {},
   "outputs": [],
   "source": [
    "test_data.explore()"
   ]
  }
 ],
 "metadata": {
  "kernelspec": {
   "display_name": "Python 3",
   "language": "python",
   "name": "python3"
  },
  "language_info": {
   "codemirror_mode": {
    "name": "ipython",
    "version": 3
   },
   "file_extension": ".py",
   "mimetype": "text/x-python",
   "name": "python",
   "nbconvert_exporter": "python",
   "pygments_lexer": "ipython3",
   "version": "3.8.8"
  }
 },
 "nbformat": 4,
 "nbformat_minor": 4
}
